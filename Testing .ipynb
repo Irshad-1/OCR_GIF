{
 "cells": [
  {
   "cell_type": "code",
   "execution_count": null,
   "metadata": {},
   "outputs": [],
   "source": []
  },
  {
   "cell_type": "code",
   "execution_count": 3,
   "metadata": {},
   "outputs": [],
   "source": [
    "import pytesseract\n",
    "import io \n",
    "import requests\n",
    "from PIL import Image, ImageEnhance \n",
    "import PIL.ImageOps"
   ]
  },
  {
   "cell_type": "code",
   "execution_count": 4,
   "metadata": {},
   "outputs": [],
   "source": [
    "img = Image.open('akio.gif')"
   ]
  },
  {
   "cell_type": "code",
   "execution_count": 5,
   "metadata": {},
   "outputs": [
    {
     "data": {
      "text/plain": [
       "PIL.GifImagePlugin.GifImageFile"
      ]
     },
     "execution_count": 5,
     "metadata": {},
     "output_type": "execute_result"
    }
   ],
   "source": [
    "type(img)"
   ]
  },
  {
   "cell_type": "code",
   "execution_count": 7,
   "metadata": {},
   "outputs": [
    {
     "data": {
      "text/plain": [
       "PIL.PngImagePlugin.PngImageFile"
      ]
     },
     "execution_count": 7,
     "metadata": {},
     "output_type": "execute_result"
    }
   ],
   "source": [
    "img1 = Image.open('textimg.png')\n",
    "\n",
    "type(img1)"
   ]
  },
  {
   "cell_type": "code",
   "execution_count": 11,
   "metadata": {},
   "outputs": [
    {
     "name": "stdout",
     "output_type": "stream",
     "text": [
      "Frame:  1\n",
      "This is the first line of\n",
      "this text example.\n",
      "\n",
      "This is the second line\n",
      "of the same text.\n",
      "------------------\n"
     ]
    }
   ],
   "source": [
    "img = Image.open('textimg.png')\n",
    "if type(img) == PIL.GifImagePlugin.GifImageFile:\n",
    "    ittr =  img.n_frames\n",
    "else:\n",
    "    ittr = 1\n",
    "for frame in range(ittr):\n",
    "\n",
    "    print('Frame: ', frame + 1)\n",
    "\n",
    "    img.seek(frame)\n",
    "    imgrgb = img.convert('RGB')\n",
    "\n",
    "    imgrgb = PIL.ImageOps.invert(imgrgb)\n",
    "\n",
    "    enchancer = ImageEnhance.Brightness(imgrgb)\n",
    "\n",
    "    imgrgb = enchancer.enhance(4.0)\n",
    "\n",
    "    imgrgb = imgrgb.convert('1')\n",
    "\n",
    "    text = pytesseract.image_to_string(imgrgb)\n",
    "\n",
    "    print(text)\n",
    "    print(\"------------------\")"
   ]
  },
  {
   "cell_type": "code",
   "execution_count": null,
   "metadata": {},
   "outputs": [],
   "source": []
  }
 ],
 "metadata": {
  "kernelspec": {
   "display_name": "Python 3",
   "language": "python",
   "name": "python3"
  },
  "language_info": {
   "codemirror_mode": {
    "name": "ipython",
    "version": 3
   },
   "file_extension": ".py",
   "mimetype": "text/x-python",
   "name": "python",
   "nbconvert_exporter": "python",
   "pygments_lexer": "ipython3",
   "version": "3.7.5"
  }
 },
 "nbformat": 4,
 "nbformat_minor": 2
}
